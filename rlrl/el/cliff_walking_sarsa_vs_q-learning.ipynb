{
 "cells": [
  {
   "cell_type": "code",
   "execution_count": 1,
   "id": "b66839fc",
   "metadata": {},
   "outputs": [],
   "source": [
    "import gym"
   ]
  },
  {
   "cell_type": "code",
   "execution_count": 2,
   "id": "38f4d7c0",
   "metadata": {},
   "outputs": [],
   "source": [
    "from collections import defaultdict\n",
    "\n",
    "import matplotlib.pyplot as plt\n",
    "import numpy as np\n",
    "import random"
   ]
  },
  {
   "cell_type": "code",
   "execution_count": 3,
   "id": "c25fe641",
   "metadata": {},
   "outputs": [],
   "source": [
    "class ELAgent():\n",
    "    \n",
    "    def __init__(self, epsilon):\n",
    "        self.epsilon = epsilon\n",
    "        self.Q = {}\n",
    "        self.reward_log = []\n",
    "        self.total_reward_log = []\n",
    "    \n",
    "    def policy(self, s, actions):\n",
    "        if random.random() < self.epsilon:\n",
    "            return np.random.choice(actions)\n",
    "        else:\n",
    "            if s in self.Q and len(self.Q[s]) != 0:\n",
    "#                 print('next action: {}'.format(np.argmax(self.Q[s])))\n",
    "                return actions[np.argmax(self.Q[s])]\n",
    "            else:\n",
    "                return np.random.choice(actions)\n",
    "    \n",
    "    def init_log(self):\n",
    "        self.reward_log = []\n",
    "        self.total_reward_log = []\n",
    "\n",
    "    def log(self, reward):\n",
    "        self.reward_log.append(reward)\n",
    "    \n",
    "    def total_log(self, total):\n",
    "        if len(self.total_reward_log) > 0:\n",
    "            self.total_reward_log.append(max(max(np.array(self.total_reward_log)), total))\n",
    "        else:\n",
    "            self.total_reward_log.append(total)\n",
    "\n",
    "    def show_reward_log(self, interval=50, episode=-1):\n",
    "        if episode > 0:\n",
    "            rewards = self.reward_log[-interval:]\n",
    "            mean = np.round(np.mean(rewards), 3)\n",
    "            std = np.round(np.std(rewards), 3)\n",
    "            print(\n",
    "                \"At Episode {} average reward is {} (+/-{}).\".format(episode, mean, std)\n",
    "            )\n",
    "        else:\n",
    "            indices = list(range(0, len(self.reward_log), interval))\n",
    "            means = []\n",
    "            stds = []\n",
    "            for i in indices:\n",
    "                rewards = self.reward_log[i : (i + interval)]\n",
    "                means.append(np.mean(rewards))\n",
    "                stds.append(np.std(rewards))\n",
    "            means = np.array(means)\n",
    "            stds = np.array(stds)\n",
    "            plt.figure()\n",
    "            plt.title(\"Reward History\")\n",
    "            plt.grid()\n",
    "            plt.fill_between(indices, means - stds, means + stds, alpha=0.1, color=\"g\")\n",
    "            plt.plot(\n",
    "                indices,\n",
    "                means,\n",
    "                \"o-\",\n",
    "                color=\"g\",\n",
    "                label=\"Rewards for each {} episode\".format(interval),\n",
    "            )\n",
    "            plt.legend(loc=\"best\")\n",
    "            plt.show()\n"
   ]
  },
  {
   "cell_type": "code",
   "execution_count": 4,
   "id": "eea43b48",
   "metadata": {},
   "outputs": [],
   "source": [
    "class QLearningAgent(ELAgent):\n",
    "\n",
    "    def __init__(self, epsilon=0.1):\n",
    "        super().__init__(epsilon)\n",
    "    \n",
    "    def learn(self, env, episode_count=1000, gamma=0.9,\n",
    "              learning_rate=0.1, render=False, report_interval=50):\n",
    "        self.init_log()\n",
    "        actions = list(range(env.action_space.n))\n",
    "        self.Q = defaultdict(lambda: [0] * len(actions))\n",
    "        for e in range(episode_count):\n",
    "            s, _ = env.reset()\n",
    "            done = False\n",
    "            total = 0\n",
    "            while not done:\n",
    "                if render:\n",
    "                    env.render()\n",
    "                a = self.policy(s, actions)\n",
    "                n_state, reward, done, _, info = env.step(a)\n",
    "                total += reward\n",
    "\n",
    "                gain = reward + gamma * max(self.Q[n_state])\n",
    "                estimated = self.Q[s][a]\n",
    "                self.Q[s][a] += learning_rate * (gain - estimated)\n",
    "                s = n_state\n",
    "                if reward == -100:\n",
    "                    break\n",
    "                self.log(reward)\n",
    "            self.total_log(total)\n",
    "\n",
    "            if e != 0 and e % report_interval == 0:\n",
    "                self.show_reward_log(episode=e)\n",
    "\n",
    "class SARSAAgent(ELAgent):\n",
    "\n",
    "    def __init__(self, epsilon=0.1):\n",
    "        super().__init__(epsilon)\n",
    "\n",
    "    def learn(self, env, episode_count=1000, gamma=0.9,\n",
    "              learning_rate=0.1, render=False, report_interval=50):\n",
    "        self.init_log()\n",
    "        actions = list(range(env.action_space.n))\n",
    "        self.Q = defaultdict(lambda: [0] * len(actions))\n",
    "        for e in range(episode_count):\n",
    "            s, _ = env.reset()\n",
    "            done = False\n",
    "            a = self.policy(s, actions)\n",
    "            total = 0\n",
    "            while not done:\n",
    "                if render:\n",
    "                    env.render()\n",
    "                n_state, reward, done, _, info = env.step(a)\n",
    "                total += reward\n",
    "\n",
    "                # 2回目のpolicy呼び出し\n",
    "                n_action = self.policy(n_state, actions)  # On-policy\n",
    "                # 今の状態(state)から行動(a)をとった次の状態(n_state)の価値ってどんなもんよ\n",
    "                gain = reward + gamma * self.Q[n_state][n_action]\n",
    "                estimated = self.Q[s][a]\n",
    "                self.Q[s][a] += learning_rate * (gain - estimated)\n",
    "                s = n_state\n",
    "                a = n_action\n",
    "                if reward == -100:\n",
    "                    break\n",
    "                self.log(reward)\n",
    "            self.total_log(total)\n",
    "\n",
    "            if e != 0 and e % report_interval == 0:\n",
    "                self.show_reward_log(episode=e)"
   ]
  },
  {
   "cell_type": "code",
   "execution_count": 5,
   "id": "4ed3d490",
   "metadata": {},
   "outputs": [
    {
     "name": "stderr",
     "output_type": "stream",
     "text": [
      "/Users/shibukawar/workspace/reinforcement-learning-basis/.venv/lib/python3.11/site-packages/gym/utils/passive_env_checker.py:233: DeprecationWarning: `np.bool8` is a deprecated alias for `np.bool_`.  (Deprecated NumPy 1.24)\n",
      "  if not isinstance(terminated, (bool, np.bool8)):\n"
     ]
    },
    {
     "name": "stdout",
     "output_type": "stream",
     "text": [
      "At Episode 50 average reward is -1.0 (+/-0.0).\n",
      "At Episode 100 average reward is -1.0 (+/-0.0).\n",
      "At Episode 150 average reward is -1.0 (+/-0.0).\n",
      "At Episode 200 average reward is -1.0 (+/-0.0).\n",
      "At Episode 250 average reward is -1.0 (+/-0.0).\n",
      "At Episode 300 average reward is -1.0 (+/-0.0).\n",
      "At Episode 350 average reward is -1.0 (+/-0.0).\n",
      "At Episode 400 average reward is -1.0 (+/-0.0).\n",
      "At Episode 450 average reward is -1.0 (+/-0.0).\n",
      "At Episode 50 average reward is -1.0 (+/-0.0).\n",
      "At Episode 100 average reward is -1.0 (+/-0.0).\n",
      "At Episode 150 average reward is -1.0 (+/-0.0).\n",
      "At Episode 200 average reward is -1.0 (+/-0.0).\n",
      "At Episode 250 average reward is -1.0 (+/-0.0).\n",
      "At Episode 300 average reward is -1.0 (+/-0.0).\n",
      "At Episode 350 average reward is -1.0 (+/-0.0).\n",
      "At Episode 400 average reward is -1.0 (+/-0.0).\n",
      "At Episode 450 average reward is -1.0 (+/-0.0).\n"
     ]
    }
   ],
   "source": [
    "env = gym.make(\"CliffWalking-v0\")\n",
    "q_learning_agent = QLearningAgent()\n",
    "q_learning_agent.learn(env, episode_count=500)\n",
    "env2 = gym.make(\"CliffWalking-v0\")\n",
    "sarsa_agent = SARSAAgent()\n",
    "sarsa_agent.learn(env2, episode_count=500)\n",
    "# show_q_value(agent.Q)\n",
    "# agent.show_reward_log()"
   ]
  },
  {
   "cell_type": "code",
   "execution_count": 6,
   "id": "23e0119c",
   "metadata": {
    "scrolled": true
   },
   "outputs": [
    {
     "data": {
      "image/png": "[encoded data removed]",
      "text/plain": [
       "<Figure size 640x480 with 1 Axes>"
      ]
     },
     "metadata": {},
     "output_type": "display_data"
    }
   ],
   "source": [
    "plt.plot(range(len(q_learning_agent.total_reward_log)), np.array(q_learning_agent.total_reward_log), label='Q Learning')\n",
    "plt.plot(range(len(sarsa_agent.total_reward_log)), np.array(sarsa_agent.total_reward_log),label='SARSA')\n",
    "# plt.yscale('log')\n",
    "plt.ylim(-100, 0)\n",
    "plt.legend(loc='lower right')\n",
    "plt.title('cliff walking')\n",
    "plt.xlabel('episode')\n",
    "plt.ylabel('total rewards for each episode')\n",
    "plt.savefig('cliff_walking.png')"
   ]
  },
  {
   "cell_type": "code",
   "execution_count": null,
   "id": "259cae6b",
   "metadata": {},
   "outputs": [],
   "source": []
  }
 ],
 "metadata": {
  "kernelspec": {
   "display_name": "Python 3 (ipykernel)",
   "language": "python",
   "name": "python3"
  },
  "language_info": {
   "codemirror_mode": {
    "name": "ipython",
    "version": 3
   },
   "file_extension": ".py",
   "mimetype": "text/x-python",
   "name": "python",
   "nbconvert_exporter": "python",
   "pygments_lexer": "ipython3",
   "version": "3.11.1"
  }
 },
 "nbformat": 4,
 "nbformat_minor": 5
}
